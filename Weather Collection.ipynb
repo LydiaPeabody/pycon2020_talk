{
 "cells": [
  {
   "cell_type": "code",
   "execution_count": null,
   "metadata": {},
   "outputs": [],
   "source": [
    "import sys\n",
    "sys.path.append('/path/to/my/script/folder')\n",
    "from scripts import get_weather_data\n",
    "\n",
    "%load_ext autoreload\n",
    "%autoreload 2"
   ]
  },
  {
   "cell_type": "code",
   "execution_count": null,
   "metadata": {},
   "outputs": [],
   "source": [
    "#update your inputs for your current project\n",
    "day = 4\n",
    "month = 9\n",
    "year = 2020\n",
    "city = 'Melbourne'\n",
    "state = 'VIC'\n"
   ]
  },
  {
   "cell_type": "code",
   "execution_count": null,
   "metadata": {},
   "outputs": [],
   "source": [
    "forecast_args = {'day'  :day\n",
    "                ,'month':month\n",
    "                ,'year' :year\n",
    "                ,'city' :city\n",
    "                ,'state':state}\n",
    "\n",
    "project_weather = get_weather_data(**forecast_args)"
   ]
  }
 ],
 "metadata": {
  "kernelspec": {
   "display_name": "Python 3",
   "language": "python",
   "name": "python3"
  },
  "language_info": {
   "codemirror_mode": {
    "name": "ipython",
    "version": 3
   },
   "file_extension": ".py",
   "mimetype": "text/x-python",
   "name": "python",
   "nbconvert_exporter": "python",
   "pygments_lexer": "ipython3",
   "version": "3.7.6"
  }
 },
 "nbformat": 4,
 "nbformat_minor": 2
}
