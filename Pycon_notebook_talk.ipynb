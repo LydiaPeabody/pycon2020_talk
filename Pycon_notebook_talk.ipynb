{
 "cells": [
  {
   "cell_type": "code",
   "execution_count": 35,
   "metadata": {},
   "outputs": [],
   "source": [
    "import pandas as pd\n",
    "import geopandas as gpd\n",
    "import plotly.express as px\n",
    "import matplotlib.pyplot as plt\n",
    "\n",
    "locations = '/Users/pennytheory/Downloads/Nice_ride_data_2017_season/Nice_Ride_2017_Station_Locations.csv'\n",
    "trip_data = '/Users/pennytheory/Downloads/Nice_ride_data_2017_season/Nice_ride_trip_history_2017_season.csv'"
   ]
  },
  {
   "cell_type": "code",
   "execution_count": 2,
   "metadata": {},
   "outputs": [
    {
     "name": "stdout",
     "output_type": "stream",
     "text": [
      "(202, 5)\n"
     ]
    },
    {
     "data": {
      "text/html": [
       "<div>\n",
       "<style scoped>\n",
       "    .dataframe tbody tr th:only-of-type {\n",
       "        vertical-align: middle;\n",
       "    }\n",
       "\n",
       "    .dataframe tbody tr th {\n",
       "        vertical-align: top;\n",
       "    }\n",
       "\n",
       "    .dataframe thead th {\n",
       "        text-align: right;\n",
       "    }\n",
       "</style>\n",
       "<table border=\"1\" class=\"dataframe\">\n",
       "  <thead>\n",
       "    <tr style=\"text-align: right;\">\n",
       "      <th></th>\n",
       "      <th>Number</th>\n",
       "      <th>Name</th>\n",
       "      <th>Latitude</th>\n",
       "      <th>Longitude</th>\n",
       "      <th>Total docks</th>\n",
       "    </tr>\n",
       "  </thead>\n",
       "  <tbody>\n",
       "    <tr>\n",
       "      <th>0</th>\n",
       "      <td>30000</td>\n",
       "      <td>100 Main Street SE</td>\n",
       "      <td>44.984892</td>\n",
       "      <td>-93.256551</td>\n",
       "      <td>27</td>\n",
       "    </tr>\n",
       "    <tr>\n",
       "      <th>1</th>\n",
       "      <td>30001</td>\n",
       "      <td>25th Street &amp; 33rd Ave S</td>\n",
       "      <td>44.957341</td>\n",
       "      <td>-93.223374</td>\n",
       "      <td>15</td>\n",
       "    </tr>\n",
       "    <tr>\n",
       "      <th>2</th>\n",
       "      <td>30002</td>\n",
       "      <td>Riverside Ave &amp; 23rd Ave S</td>\n",
       "      <td>44.967115</td>\n",
       "      <td>-93.240149</td>\n",
       "      <td>15</td>\n",
       "    </tr>\n",
       "    <tr>\n",
       "      <th>3</th>\n",
       "      <td>30003</td>\n",
       "      <td>Plymouth Ave N &amp;  N Oliver Ave</td>\n",
       "      <td>44.991412</td>\n",
       "      <td>-93.306269</td>\n",
       "      <td>15</td>\n",
       "    </tr>\n",
       "    <tr>\n",
       "      <th>4</th>\n",
       "      <td>30004</td>\n",
       "      <td>11th Street &amp; Hennepin</td>\n",
       "      <td>44.975340</td>\n",
       "      <td>-93.278690</td>\n",
       "      <td>23</td>\n",
       "    </tr>\n",
       "  </tbody>\n",
       "</table>\n",
       "</div>"
      ],
      "text/plain": [
       "  Number                            Name   Latitude  Longitude  Total docks\n",
       "0  30000              100 Main Street SE  44.984892 -93.256551           27\n",
       "1  30001        25th Street & 33rd Ave S  44.957341 -93.223374           15\n",
       "2  30002      Riverside Ave & 23rd Ave S  44.967115 -93.240149           15\n",
       "3  30003  Plymouth Ave N &  N Oliver Ave  44.991412 -93.306269           15\n",
       "4  30004          11th Street & Hennepin  44.975340 -93.278690           23"
      ]
     },
     "execution_count": 2,
     "metadata": {},
     "output_type": "execute_result"
    }
   ],
   "source": [
    "location_df = pd.read_csv(locations)\n",
    "print(location_df.shape)\n",
    "location_df.head()"
   ]
  },
  {
   "cell_type": "code",
   "execution_count": 3,
   "metadata": {
    "scrolled": true
   },
   "outputs": [
    {
     "name": "stdout",
     "output_type": "stream",
     "text": [
      "(460718, 8)\n"
     ]
    },
    {
     "name": "stderr",
     "output_type": "stream",
     "text": [
      "/Applications/miniconda3/envs/geo_data_base/lib/python3.8/site-packages/IPython/core/interactiveshell.py:3062: DtypeWarning: Columns (2,5) have mixed types.Specify dtype option on import or set low_memory=False.\n",
      "  has_raised = await self.run_ast_nodes(code_ast.body, cell_name,\n"
     ]
    },
    {
     "data": {
      "text/html": [
       "<div>\n",
       "<style scoped>\n",
       "    .dataframe tbody tr th:only-of-type {\n",
       "        vertical-align: middle;\n",
       "    }\n",
       "\n",
       "    .dataframe tbody tr th {\n",
       "        vertical-align: top;\n",
       "    }\n",
       "\n",
       "    .dataframe thead th {\n",
       "        text-align: right;\n",
       "    }\n",
       "</style>\n",
       "<table border=\"1\" class=\"dataframe\">\n",
       "  <thead>\n",
       "    <tr style=\"text-align: right;\">\n",
       "      <th></th>\n",
       "      <th>Start date</th>\n",
       "      <th>Start station</th>\n",
       "      <th>Start station number</th>\n",
       "      <th>End date</th>\n",
       "      <th>End station</th>\n",
       "      <th>End station number</th>\n",
       "      <th>Account type</th>\n",
       "      <th>Total duration (Seconds)</th>\n",
       "    </tr>\n",
       "  </thead>\n",
       "  <tbody>\n",
       "    <tr>\n",
       "      <th>0</th>\n",
       "      <td>11/5/2017 21:45</td>\n",
       "      <td>Hennepin Ave &amp; S Washington Ave</td>\n",
       "      <td>30184</td>\n",
       "      <td>11/5/2017 22:02</td>\n",
       "      <td>Logan Park</td>\n",
       "      <td>30104</td>\n",
       "      <td>Member</td>\n",
       "      <td>1048</td>\n",
       "    </tr>\n",
       "    <tr>\n",
       "      <th>1</th>\n",
       "      <td>11/5/2017 21:45</td>\n",
       "      <td>Broadway Street N &amp; 4th Street E</td>\n",
       "      <td>30122</td>\n",
       "      <td>11/5/2017 22:26</td>\n",
       "      <td>Broadway Street N &amp; 4th Street E</td>\n",
       "      <td>30122</td>\n",
       "      <td>Member</td>\n",
       "      <td>2513</td>\n",
       "    </tr>\n",
       "    <tr>\n",
       "      <th>2</th>\n",
       "      <td>11/5/2017 21:43</td>\n",
       "      <td>Dale Street &amp; Grand Ave.</td>\n",
       "      <td>30106</td>\n",
       "      <td>11/5/2017 22:13</td>\n",
       "      <td>N Milton Street &amp; Summit Ave</td>\n",
       "      <td>30101</td>\n",
       "      <td>Member</td>\n",
       "      <td>1817</td>\n",
       "    </tr>\n",
       "    <tr>\n",
       "      <th>3</th>\n",
       "      <td>11/5/2017 21:41</td>\n",
       "      <td>Weisman Art Museum</td>\n",
       "      <td>30183</td>\n",
       "      <td>11/5/2017 22:05</td>\n",
       "      <td>22nd Ave S &amp; Franklin Ave</td>\n",
       "      <td>30014</td>\n",
       "      <td>Casual</td>\n",
       "      <td>1399</td>\n",
       "    </tr>\n",
       "    <tr>\n",
       "      <th>4</th>\n",
       "      <td>11/5/2017 21:38</td>\n",
       "      <td>South 2nd Street &amp; 3rd Ave S</td>\n",
       "      <td>30030</td>\n",
       "      <td>11/5/2017 21:44</td>\n",
       "      <td>6th Ave SE &amp; University Ave</td>\n",
       "      <td>30088</td>\n",
       "      <td>Member</td>\n",
       "      <td>370</td>\n",
       "    </tr>\n",
       "  </tbody>\n",
       "</table>\n",
       "</div>"
      ],
      "text/plain": [
       "        Start date                     Start station Start station number  \\\n",
       "0  11/5/2017 21:45   Hennepin Ave & S Washington Ave                30184   \n",
       "1  11/5/2017 21:45  Broadway Street N & 4th Street E                30122   \n",
       "2  11/5/2017 21:43          Dale Street & Grand Ave.                30106   \n",
       "3  11/5/2017 21:41                Weisman Art Museum                30183   \n",
       "4  11/5/2017 21:38      South 2nd Street & 3rd Ave S                30030   \n",
       "\n",
       "          End date                       End station End station number  \\\n",
       "0  11/5/2017 22:02                        Logan Park              30104   \n",
       "1  11/5/2017 22:26  Broadway Street N & 4th Street E              30122   \n",
       "2  11/5/2017 22:13      N Milton Street & Summit Ave              30101   \n",
       "3  11/5/2017 22:05         22nd Ave S & Franklin Ave              30014   \n",
       "4  11/5/2017 21:44       6th Ave SE & University Ave              30088   \n",
       "\n",
       "  Account type  Total duration (Seconds)  \n",
       "0       Member                      1048  \n",
       "1       Member                      2513  \n",
       "2       Member                      1817  \n",
       "3       Casual                      1399  \n",
       "4       Member                       370  "
      ]
     },
     "execution_count": 3,
     "metadata": {},
     "output_type": "execute_result"
    }
   ],
   "source": [
    "trip_df = pd.read_csv(trip_data)\n",
    "print(trip_df.shape)\n",
    "trip_df.head()"
   ]
  },
  {
   "cell_type": "code",
   "execution_count": 5,
   "metadata": {},
   "outputs": [
    {
     "name": "stdout",
     "output_type": "stream",
     "text": [
      "<class 'geopandas.geodataframe.GeoDataFrame'>\n",
      "RangeIndex: 202 entries, 0 to 201\n",
      "Data columns (total 6 columns):\n",
      " #   Column       Non-Null Count  Dtype   \n",
      "---  ------       --------------  -----   \n",
      " 0   Number       202 non-null    object  \n",
      " 1   Name         202 non-null    object  \n",
      " 2   Latitude     202 non-null    float64 \n",
      " 3   Longitude    202 non-null    float64 \n",
      " 4   Total docks  202 non-null    int64   \n",
      " 5   geometry     202 non-null    geometry\n",
      "dtypes: float64(2), geometry(1), int64(1), object(2)\n",
      "memory usage: 9.6+ KB\n"
     ]
    }
   ],
   "source": [
    "loc_gdf = gpd.GeoDataFrame(location_df, geometry=gpd.points_from_xy(location_df.Longitude, location_df.Latitude))\n",
    "loc_gdf.info()"
   ]
  },
  {
   "cell_type": "code",
   "execution_count": 32,
   "metadata": {},
   "outputs": [],
   "source": [
    "location_df['sizing']=location_df['Total docks']-7"
   ]
  },
  {
   "cell_type": "code",
   "execution_count": 45,
   "metadata": {},
   "outputs": [
    {
     "data": {
      "application/vnd.plotly.v1+json": {
       "config": {
        "plotlyServerURL": "https://plot.ly"
       },
       "data": [
        {
         "hoverlabel": {
          "namelength": 0
         },
         "hovertemplate": "sizing=%{marker.size}<br>Latitude=%{lat}<br>Longitude=%{lon}<br>Total docks=%{marker.color}",
         "lat": [
          44.984891999999995,
          44.957341,
          44.967115,
          44.991412,
          44.97534,
          44.988890000000005,
          44.972217,
          44.97265,
          44.94859,
          44.98102,
          44.97391,
          44.986087,
          44.970040999999995,
          44.94948465,
          44.96293,
          44.973440000000004,
          44.96710368,
          44.960744,
          44.957214,
          44.97063898,
          44.95131,
          44.98383,
          44.95548,
          44.95355,
          44.973378000000004,
          44.977406,
          44.97209,
          44.97003,
          44.98087361,
          44.976602,
          44.98092673,
          44.977028000000004,
          44.97913,
          44.962509999999995,
          44.97202,
          44.9715,
          44.969225,
          44.96285,
          44.973839,
          44.97265,
          44.962846,
          44.975640999999996,
          44.94865,
          44.9554734,
          44.962701,
          44.97654,
          44.98717,
          44.961459999999995,
          44.93531794,
          44.97974,
          44.97497,
          44.96995,
          44.980536,
          44.950371000000004,
          44.97337143,
          44.98412539,
          44.9743,
          44.97685,
          44.981147,
          44.96342,
          44.946687,
          44.98052,
          44.970553,
          44.9519,
          44.98987911,
          44.9798,
          44.999340999999994,
          44.99957,
          45.005994,
          45.002448,
          44.991704,
          44.941388,
          44.972590000000004,
          44.966159999999995,
          44.963549,
          44.95665,
          44.964172,
          44.956624,
          44.94823,
          44.94826,
          44.956052,
          44.948147,
          44.940513,
          44.940218,
          44.96954,
          44.983281,
          44.94846717,
          44.978068,
          44.982594299999995,
          44.98961164,
          44.968237,
          44.94478,
          44.93775,
          44.999874,
          44.948555999999996,
          44.995348,
          44.94010259,
          44.981914,
          44.941599,
          44.98025511,
          44.945736,
          44.99882,
          44.955363,
          44.939778999999994,
          44.956066,
          44.95937384,
          44.987934,
          44.987517,
          44.9559764,
          45.00994,
          44.984527,
          44.93387867,
          44.97394,
          44.949053,
          44.950189,
          44.949433,
          44.948399,
          44.946191,
          44.950765999999994,
          44.94965,
          44.95385,
          44.945173,
          44.95235098,
          44.94683,
          44.945267,
          44.94813,
          44.94638658,
          44.94065697,
          44.93768,
          44.943846,
          44.928979999999996,
          44.940902,
          44.94144,
          44.942846,
          44.9467,
          44.95562,
          44.954696999999996,
          44.95562146,
          44.951132,
          44.97731428,
          44.977521,
          44.988461,
          45.00095,
          45.042435,
          44.948452,
          44.920466,
          44.916906,
          44.894044,
          44.992540000000005,
          44.998613,
          44.905043,
          44.976729999999996,
          44.93992412,
          44.915957,
          44.929359999999996,
          44.9485,
          44.890527,
          44.949699,
          44.947328999999996,
          44.940288,
          44.93434,
          44.919593,
          44.92515,
          44.937816999999995,
          44.9342,
          45.01312,
          45.006229,
          44.985388,
          44.985465000000005,
          44.983321000000004,
          45.010119,
          44.91294254,
          45.006321,
          44.985406,
          45.013040000000004,
          44.990328000000005,
          44.97589503,
          44.987996,
          44.98446,
          44.980831,
          44.973607,
          44.981895,
          44.991821,
          44.97866518,
          44.966145000000004,
          44.974795,
          44.972128000000005,
          44.985576,
          44.968759999999996,
          44.976303,
          44.977899,
          44.974396999999996,
          44.972404,
          44.976096000000005,
          44.979878,
          44.976223,
          44.90700063,
          44.987159999999996,
          44.9805,
          44.912125,
          45.002526,
          44.953565999999995
         ],
         "legendgroup": "",
         "lon": [
          -93.256551,
          -93.22337399999999,
          -93.240149,
          -93.306269,
          -93.27869,
          -93.25392,
          -93.27643499999999,
          -93.26872,
          -93.2602,
          -93.23746,
          -93.28305,
          -93.272459,
          -93.27586099999999,
          -93.28822732,
          -93.24104200000001,
          -93.24748000000001,
          -93.2890749,
          -93.28815,
          -93.27498100000001,
          -93.24355245,
          -93.29853,
          -93.27099,
          -93.28775,
          -93.26259,
          -93.234762,
          -93.234911,
          -93.23206,
          -93.24519000000001,
          -93.26692522,
          -93.266701,
          -93.26345444,
          -93.221639,
          -93.23189,
          -93.2583,
          -93.22697,
          -93.284927,
          -93.251136,
          -93.252269,
          -93.27454399999999,
          -93.27405,
          -93.267526,
          -93.272185,
          -93.30077,
          -93.29714298,
          -93.23089300000001,
          -93.25535,
          -93.25576,
          -93.29303,
          -93.27807784,
          -93.26599,
          -93.266684,
          -93.278133,
          -93.275626,
          -93.269278,
          -93.21126401,
          -93.27903807,
          -93.22854,
          -93.23818,
          -93.304427,
          -93.277939,
          -93.29736,
          -93.28542,
          -93.26079,
          -93.27831,
          -93.27978373,
          -93.322066,
          -93.290941,
          -93.297071,
          -93.287559,
          -93.30585699999999,
          -93.293988,
          -93.29863399999999,
          -93.218919,
          -93.20525,
          -93.19590600000001,
          -93.17706,
          -93.165868,
          -93.16734,
          -93.24054,
          -93.22106,
          -93.136556,
          -93.185819,
          -93.177093,
          -93.17022,
          -93.2669,
          -93.24812,
          -93.31729442,
          -93.26023,
          -93.26751390000001,
          -93.27718735,
          -93.281991,
          -93.29038,
          -93.2912,
          -93.262955,
          -93.283163,
          -93.26685400000001,
          -93.15315127,
          -93.143383,
          -93.138832,
          -93.15167874,
          -93.12661,
          -93.25276,
          -93.14637900000001,
          -93.126261,
          -93.126088,
          -93.26101631,
          -93.21289200000001,
          -93.230469,
          -93.15670252,
          -93.247114,
          -93.185029,
          -93.27260882,
          -93.2321,
          -93.10673,
          -93.09759,
          -93.091207,
          -93.086584,
          -93.088802,
          -93.08924499999999,
          -93.0845,
          -93.10445,
          -93.103863,
          -93.09954867,
          -93.09231,
          -93.096114,
          -93.09663,
          -93.08343261,
          -93.09000671,
          -93.094532,
          -93.09227,
          -93.12428100000001,
          -93.098712,
          -93.10624,
          -93.097836,
          -93.1151,
          -93.11665,
          -93.097817,
          -93.10574323,
          -93.094545,
          -93.27776134,
          -93.256736,
          -93.269087,
          -93.27703699999999,
          -93.283734,
          -93.20620100000001,
          -93.21953,
          -93.213587,
          -93.187381,
          -93.270256,
          -93.268633,
          -93.19828299999999,
          -93.252189,
          -93.19278225,
          -93.242761,
          -93.30713,
          -93.30520899999999,
          -93.18236999999999,
          -93.29312900000001,
          -93.233092,
          -93.197997,
          -93.229338,
          -93.187264,
          -93.31459699999999,
          -93.320212,
          -93.2125,
          -93.27166,
          -93.271571,
          -93.26145,
          -93.25210200000001,
          -93.24965300000001,
          -93.268598,
          -93.21014017,
          -93.266553,
          -93.27403100000001,
          -93.264573,
          -93.254295,
          -93.25998902,
          -93.279854,
          -93.27723399999999,
          -93.240282,
          -93.23725400000001,
          -93.269195,
          -93.255558,
          -93.27050328,
          -93.286294,
          -93.270649,
          -93.221021,
          -93.238743,
          -93.21003,
          -93.230029,
          -93.226629,
          -93.22300200000001,
          -93.242891,
          -93.23195799999999,
          -93.234739,
          -93.2416,
          -93.19143176,
          -93.30194399999999,
          -93.2618,
          -93.298552,
          -93.247162,
          -93.220066
         ],
         "marker": {
          "color": [
           27,
           15,
           15,
           15,
           23,
           15,
           23,
           19,
           19,
           27,
           15,
           19,
           19,
           19,
           15,
           20,
           23,
           19,
           17,
           27,
           19,
           19,
           15,
           15,
           35,
           25,
           25,
           19,
           19,
           41,
           23,
           23,
           15,
           15,
           23,
           15,
           15,
           15,
           19,
           19,
           15,
           23,
           19,
           15,
           19,
           19,
           19,
           15,
           15,
           27,
           15,
           15,
           23,
           15,
           24,
           19,
           19,
           15,
           15,
           23,
           19,
           15,
           15,
           15,
           15,
           15,
           15,
           15,
           15,
           15,
           15,
           19,
           15,
           15,
           15,
           15,
           15,
           15,
           15,
           15,
           15,
           15,
           15,
           15,
           15,
           27,
           27,
           19,
           19,
           19,
           23,
           15,
           15,
           15,
           15,
           15,
           15,
           23,
           15,
           19,
           15,
           23,
           15,
           15,
           15,
           15,
           19,
           19,
           15,
           15,
           15,
           11,
           31,
           15,
           15,
           15,
           23,
           15,
           15,
           19,
           15,
           11,
           15,
           19,
           15,
           15,
           15,
           17,
           19,
           15,
           15,
           19,
           15,
           15,
           19,
           15,
           15,
           15,
           19,
           27,
           19,
           15,
           15,
           27,
           15,
           15,
           27,
           19,
           15,
           15,
           15,
           23,
           15,
           23,
           25,
           41,
           19,
           15,
           15,
           15,
           15,
           15,
           15,
           19,
           15,
           15,
           15,
           15,
           15,
           15,
           15,
           15,
           15,
           19,
           15,
           15,
           27,
           19,
           23,
           23,
           19,
           23,
           15,
           19,
           19,
           19,
           19,
           15,
           15,
           15,
           25,
           23,
           23,
           23,
           23,
           15,
           19,
           15,
           23,
           23,
           15,
           7
          ],
          "coloraxis": "coloraxis",
          "size": [
           20,
           8,
           8,
           8,
           16,
           8,
           16,
           12,
           12,
           20,
           8,
           12,
           12,
           12,
           8,
           13,
           16,
           12,
           10,
           20,
           12,
           12,
           8,
           8,
           28,
           18,
           18,
           12,
           12,
           34,
           16,
           16,
           8,
           8,
           16,
           8,
           8,
           8,
           12,
           12,
           8,
           16,
           12,
           8,
           12,
           12,
           12,
           8,
           8,
           20,
           8,
           8,
           16,
           8,
           17,
           12,
           12,
           8,
           8,
           16,
           12,
           8,
           8,
           8,
           8,
           8,
           8,
           8,
           8,
           8,
           8,
           12,
           8,
           8,
           8,
           8,
           8,
           8,
           8,
           8,
           8,
           8,
           8,
           8,
           8,
           20,
           20,
           12,
           12,
           12,
           16,
           8,
           8,
           8,
           8,
           8,
           8,
           16,
           8,
           12,
           8,
           16,
           8,
           8,
           8,
           8,
           12,
           12,
           8,
           8,
           8,
           4,
           24,
           8,
           8,
           8,
           16,
           8,
           8,
           12,
           8,
           4,
           8,
           12,
           8,
           8,
           8,
           10,
           12,
           8,
           8,
           12,
           8,
           8,
           12,
           8,
           8,
           8,
           12,
           20,
           12,
           8,
           8,
           20,
           8,
           8,
           20,
           12,
           8,
           8,
           8,
           16,
           8,
           16,
           18,
           34,
           12,
           8,
           8,
           8,
           8,
           8,
           8,
           12,
           8,
           8,
           8,
           8,
           8,
           8,
           8,
           8,
           8,
           12,
           8,
           8,
           20,
           12,
           16,
           16,
           12,
           16,
           8,
           12,
           12,
           12,
           12,
           8,
           8,
           8,
           18,
           16,
           16,
           16,
           16,
           8,
           12,
           8,
           16,
           16,
           8,
           0
          ],
          "sizemode": "area",
          "sizeref": 0.085
         },
         "mode": "markers",
         "name": "",
         "showlegend": false,
         "subplot": "mapbox",
         "type": "scattermapbox"
        }
       ],
       "layout": {
        "autosize": false,
        "coloraxis": {
         "colorbar": {
          "title": {
           "text": "Total docks"
          }
         },
         "colorscale": [
          [
           0,
           "rgb(3, 5, 18)"
          ],
          [
           0.09090909090909091,
           "rgb(25, 25, 51)"
          ],
          [
           0.18181818181818182,
           "rgb(44, 42, 87)"
          ],
          [
           0.2727272727272727,
           "rgb(58, 60, 125)"
          ],
          [
           0.36363636363636365,
           "rgb(62, 83, 160)"
          ],
          [
           0.45454545454545453,
           "rgb(62, 109, 178)"
          ],
          [
           0.5454545454545454,
           "rgb(72, 134, 187)"
          ],
          [
           0.6363636363636364,
           "rgb(89, 159, 196)"
          ],
          [
           0.7272727272727273,
           "rgb(114, 184, 205)"
          ],
          [
           0.8181818181818182,
           "rgb(149, 207, 216)"
          ],
          [
           0.9090909090909091,
           "rgb(192, 229, 232)"
          ],
          [
           1,
           "rgb(234, 252, 253)"
          ]
         ]
        },
        "height": 900,
        "legend": {
         "itemsizing": "constant",
         "tracegroupgap": 0
        },
        "mapbox": {
         "accesstoken": "pk.eyJ1IjoibHlkaWFuZWlnaGJvdXJseXRpY3MiLCJhIjoiY2szNThncndwMWR0MDNvazM4enR1OHJpeSJ9.yGM6M2aPhaXHuQuKpY_JzA",
         "center": {
          "lat": 44.96517785846535,
          "lon": -93.22917779371288
         },
         "domain": {
          "x": [
           0,
           1
          ],
          "y": [
           0,
           1
          ]
         },
         "zoom": 10
        },
        "margin": {
         "b": 100,
         "l": 50,
         "pad": 4,
         "r": 50,
         "t": 100
        },
        "template": {
         "data": {
          "bar": [
           {
            "error_x": {
             "color": "#2a3f5f"
            },
            "error_y": {
             "color": "#2a3f5f"
            },
            "marker": {
             "line": {
              "color": "#E5ECF6",
              "width": 0.5
             }
            },
            "type": "bar"
           }
          ],
          "barpolar": [
           {
            "marker": {
             "line": {
              "color": "#E5ECF6",
              "width": 0.5
             }
            },
            "type": "barpolar"
           }
          ],
          "carpet": [
           {
            "aaxis": {
             "endlinecolor": "#2a3f5f",
             "gridcolor": "white",
             "linecolor": "white",
             "minorgridcolor": "white",
             "startlinecolor": "#2a3f5f"
            },
            "baxis": {
             "endlinecolor": "#2a3f5f",
             "gridcolor": "white",
             "linecolor": "white",
             "minorgridcolor": "white",
             "startlinecolor": "#2a3f5f"
            },
            "type": "carpet"
           }
          ],
          "choropleth": [
           {
            "colorbar": {
             "outlinewidth": 0,
             "ticks": ""
            },
            "type": "choropleth"
           }
          ],
          "contour": [
           {
            "colorbar": {
             "outlinewidth": 0,
             "ticks": ""
            },
            "colorscale": [
             [
              0,
              "#0d0887"
             ],
             [
              0.1111111111111111,
              "#46039f"
             ],
             [
              0.2222222222222222,
              "#7201a8"
             ],
             [
              0.3333333333333333,
              "#9c179e"
             ],
             [
              0.4444444444444444,
              "#bd3786"
             ],
             [
              0.5555555555555556,
              "#d8576b"
             ],
             [
              0.6666666666666666,
              "#ed7953"
             ],
             [
              0.7777777777777778,
              "#fb9f3a"
             ],
             [
              0.8888888888888888,
              "#fdca26"
             ],
             [
              1,
              "#f0f921"
             ]
            ],
            "type": "contour"
           }
          ],
          "contourcarpet": [
           {
            "colorbar": {
             "outlinewidth": 0,
             "ticks": ""
            },
            "type": "contourcarpet"
           }
          ],
          "heatmap": [
           {
            "colorbar": {
             "outlinewidth": 0,
             "ticks": ""
            },
            "colorscale": [
             [
              0,
              "#0d0887"
             ],
             [
              0.1111111111111111,
              "#46039f"
             ],
             [
              0.2222222222222222,
              "#7201a8"
             ],
             [
              0.3333333333333333,
              "#9c179e"
             ],
             [
              0.4444444444444444,
              "#bd3786"
             ],
             [
              0.5555555555555556,
              "#d8576b"
             ],
             [
              0.6666666666666666,
              "#ed7953"
             ],
             [
              0.7777777777777778,
              "#fb9f3a"
             ],
             [
              0.8888888888888888,
              "#fdca26"
             ],
             [
              1,
              "#f0f921"
             ]
            ],
            "type": "heatmap"
           }
          ],
          "heatmapgl": [
           {
            "colorbar": {
             "outlinewidth": 0,
             "ticks": ""
            },
            "colorscale": [
             [
              0,
              "#0d0887"
             ],
             [
              0.1111111111111111,
              "#46039f"
             ],
             [
              0.2222222222222222,
              "#7201a8"
             ],
             [
              0.3333333333333333,
              "#9c179e"
             ],
             [
              0.4444444444444444,
              "#bd3786"
             ],
             [
              0.5555555555555556,
              "#d8576b"
             ],
             [
              0.6666666666666666,
              "#ed7953"
             ],
             [
              0.7777777777777778,
              "#fb9f3a"
             ],
             [
              0.8888888888888888,
              "#fdca26"
             ],
             [
              1,
              "#f0f921"
             ]
            ],
            "type": "heatmapgl"
           }
          ],
          "histogram": [
           {
            "marker": {
             "colorbar": {
              "outlinewidth": 0,
              "ticks": ""
             }
            },
            "type": "histogram"
           }
          ],
          "histogram2d": [
           {
            "colorbar": {
             "outlinewidth": 0,
             "ticks": ""
            },
            "colorscale": [
             [
              0,
              "#0d0887"
             ],
             [
              0.1111111111111111,
              "#46039f"
             ],
             [
              0.2222222222222222,
              "#7201a8"
             ],
             [
              0.3333333333333333,
              "#9c179e"
             ],
             [
              0.4444444444444444,
              "#bd3786"
             ],
             [
              0.5555555555555556,
              "#d8576b"
             ],
             [
              0.6666666666666666,
              "#ed7953"
             ],
             [
              0.7777777777777778,
              "#fb9f3a"
             ],
             [
              0.8888888888888888,
              "#fdca26"
             ],
             [
              1,
              "#f0f921"
             ]
            ],
            "type": "histogram2d"
           }
          ],
          "histogram2dcontour": [
           {
            "colorbar": {
             "outlinewidth": 0,
             "ticks": ""
            },
            "colorscale": [
             [
              0,
              "#0d0887"
             ],
             [
              0.1111111111111111,
              "#46039f"
             ],
             [
              0.2222222222222222,
              "#7201a8"
             ],
             [
              0.3333333333333333,
              "#9c179e"
             ],
             [
              0.4444444444444444,
              "#bd3786"
             ],
             [
              0.5555555555555556,
              "#d8576b"
             ],
             [
              0.6666666666666666,
              "#ed7953"
             ],
             [
              0.7777777777777778,
              "#fb9f3a"
             ],
             [
              0.8888888888888888,
              "#fdca26"
             ],
             [
              1,
              "#f0f921"
             ]
            ],
            "type": "histogram2dcontour"
           }
          ],
          "mesh3d": [
           {
            "colorbar": {
             "outlinewidth": 0,
             "ticks": ""
            },
            "type": "mesh3d"
           }
          ],
          "parcoords": [
           {
            "line": {
             "colorbar": {
              "outlinewidth": 0,
              "ticks": ""
             }
            },
            "type": "parcoords"
           }
          ],
          "pie": [
           {
            "automargin": true,
            "type": "pie"
           }
          ],
          "scatter": [
           {
            "marker": {
             "colorbar": {
              "outlinewidth": 0,
              "ticks": ""
             }
            },
            "type": "scatter"
           }
          ],
          "scatter3d": [
           {
            "line": {
             "colorbar": {
              "outlinewidth": 0,
              "ticks": ""
             }
            },
            "marker": {
             "colorbar": {
              "outlinewidth": 0,
              "ticks": ""
             }
            },
            "type": "scatter3d"
           }
          ],
          "scattercarpet": [
           {
            "marker": {
             "colorbar": {
              "outlinewidth": 0,
              "ticks": ""
             }
            },
            "type": "scattercarpet"
           }
          ],
          "scattergeo": [
           {
            "marker": {
             "colorbar": {
              "outlinewidth": 0,
              "ticks": ""
             }
            },
            "type": "scattergeo"
           }
          ],
          "scattergl": [
           {
            "marker": {
             "colorbar": {
              "outlinewidth": 0,
              "ticks": ""
             }
            },
            "type": "scattergl"
           }
          ],
          "scattermapbox": [
           {
            "marker": {
             "colorbar": {
              "outlinewidth": 0,
              "ticks": ""
             }
            },
            "type": "scattermapbox"
           }
          ],
          "scatterpolar": [
           {
            "marker": {
             "colorbar": {
              "outlinewidth": 0,
              "ticks": ""
             }
            },
            "type": "scatterpolar"
           }
          ],
          "scatterpolargl": [
           {
            "marker": {
             "colorbar": {
              "outlinewidth": 0,
              "ticks": ""
             }
            },
            "type": "scatterpolargl"
           }
          ],
          "scatterternary": [
           {
            "marker": {
             "colorbar": {
              "outlinewidth": 0,
              "ticks": ""
             }
            },
            "type": "scatterternary"
           }
          ],
          "surface": [
           {
            "colorbar": {
             "outlinewidth": 0,
             "ticks": ""
            },
            "colorscale": [
             [
              0,
              "#0d0887"
             ],
             [
              0.1111111111111111,
              "#46039f"
             ],
             [
              0.2222222222222222,
              "#7201a8"
             ],
             [
              0.3333333333333333,
              "#9c179e"
             ],
             [
              0.4444444444444444,
              "#bd3786"
             ],
             [
              0.5555555555555556,
              "#d8576b"
             ],
             [
              0.6666666666666666,
              "#ed7953"
             ],
             [
              0.7777777777777778,
              "#fb9f3a"
             ],
             [
              0.8888888888888888,
              "#fdca26"
             ],
             [
              1,
              "#f0f921"
             ]
            ],
            "type": "surface"
           }
          ],
          "table": [
           {
            "cells": {
             "fill": {
              "color": "#EBF0F8"
             },
             "line": {
              "color": "white"
             }
            },
            "header": {
             "fill": {
              "color": "#C8D4E3"
             },
             "line": {
              "color": "white"
             }
            },
            "type": "table"
           }
          ]
         },
         "layout": {
          "annotationdefaults": {
           "arrowcolor": "#2a3f5f",
           "arrowhead": 0,
           "arrowwidth": 1
          },
          "coloraxis": {
           "colorbar": {
            "outlinewidth": 0,
            "ticks": ""
           }
          },
          "colorscale": {
           "diverging": [
            [
             0,
             "#8e0152"
            ],
            [
             0.1,
             "#c51b7d"
            ],
            [
             0.2,
             "#de77ae"
            ],
            [
             0.3,
             "#f1b6da"
            ],
            [
             0.4,
             "#fde0ef"
            ],
            [
             0.5,
             "#f7f7f7"
            ],
            [
             0.6,
             "#e6f5d0"
            ],
            [
             0.7,
             "#b8e186"
            ],
            [
             0.8,
             "#7fbc41"
            ],
            [
             0.9,
             "#4d9221"
            ],
            [
             1,
             "#276419"
            ]
           ],
           "sequential": [
            [
             0,
             "#0d0887"
            ],
            [
             0.1111111111111111,
             "#46039f"
            ],
            [
             0.2222222222222222,
             "#7201a8"
            ],
            [
             0.3333333333333333,
             "#9c179e"
            ],
            [
             0.4444444444444444,
             "#bd3786"
            ],
            [
             0.5555555555555556,
             "#d8576b"
            ],
            [
             0.6666666666666666,
             "#ed7953"
            ],
            [
             0.7777777777777778,
             "#fb9f3a"
            ],
            [
             0.8888888888888888,
             "#fdca26"
            ],
            [
             1,
             "#f0f921"
            ]
           ],
           "sequentialminus": [
            [
             0,
             "#0d0887"
            ],
            [
             0.1111111111111111,
             "#46039f"
            ],
            [
             0.2222222222222222,
             "#7201a8"
            ],
            [
             0.3333333333333333,
             "#9c179e"
            ],
            [
             0.4444444444444444,
             "#bd3786"
            ],
            [
             0.5555555555555556,
             "#d8576b"
            ],
            [
             0.6666666666666666,
             "#ed7953"
            ],
            [
             0.7777777777777778,
             "#fb9f3a"
            ],
            [
             0.8888888888888888,
             "#fdca26"
            ],
            [
             1,
             "#f0f921"
            ]
           ]
          },
          "colorway": [
           "#636efa",
           "#EF553B",
           "#00cc96",
           "#ab63fa",
           "#FFA15A",
           "#19d3f3",
           "#FF6692",
           "#B6E880",
           "#FF97FF",
           "#FECB52"
          ],
          "font": {
           "color": "#2a3f5f"
          },
          "geo": {
           "bgcolor": "white",
           "lakecolor": "white",
           "landcolor": "#E5ECF6",
           "showlakes": true,
           "showland": true,
           "subunitcolor": "white"
          },
          "hoverlabel": {
           "align": "left"
          },
          "hovermode": "closest",
          "mapbox": {
           "style": "light"
          },
          "paper_bgcolor": "white",
          "plot_bgcolor": "#E5ECF6",
          "polar": {
           "angularaxis": {
            "gridcolor": "white",
            "linecolor": "white",
            "ticks": ""
           },
           "bgcolor": "#E5ECF6",
           "radialaxis": {
            "gridcolor": "white",
            "linecolor": "white",
            "ticks": ""
           }
          },
          "scene": {
           "xaxis": {
            "backgroundcolor": "#E5ECF6",
            "gridcolor": "white",
            "gridwidth": 2,
            "linecolor": "white",
            "showbackground": true,
            "ticks": "",
            "zerolinecolor": "white"
           },
           "yaxis": {
            "backgroundcolor": "#E5ECF6",
            "gridcolor": "white",
            "gridwidth": 2,
            "linecolor": "white",
            "showbackground": true,
            "ticks": "",
            "zerolinecolor": "white"
           },
           "zaxis": {
            "backgroundcolor": "#E5ECF6",
            "gridcolor": "white",
            "gridwidth": 2,
            "linecolor": "white",
            "showbackground": true,
            "ticks": "",
            "zerolinecolor": "white"
           }
          },
          "shapedefaults": {
           "line": {
            "color": "#2a3f5f"
           }
          },
          "ternary": {
           "aaxis": {
            "gridcolor": "white",
            "linecolor": "white",
            "ticks": ""
           },
           "baxis": {
            "gridcolor": "white",
            "linecolor": "white",
            "ticks": ""
           },
           "bgcolor": "#E5ECF6",
           "caxis": {
            "gridcolor": "white",
            "linecolor": "white",
            "ticks": ""
           }
          },
          "title": {
           "x": 0.05
          },
          "xaxis": {
           "automargin": true,
           "gridcolor": "white",
           "linecolor": "white",
           "ticks": "",
           "title": {
            "standoff": 15
           },
           "zerolinecolor": "white",
           "zerolinewidth": 2
          },
          "yaxis": {
           "automargin": true,
           "gridcolor": "white",
           "linecolor": "white",
           "ticks": "",
           "title": {
            "standoff": 15
           },
           "zerolinecolor": "white",
           "zerolinewidth": 2
          }
         }
        },
        "width": 900
       }
      },
      "text/html": [
       "<div>\n",
       "        \n",
       "        \n",
       "            <div id=\"ed760662-cc10-4a31-97f5-eccf10324e65\" class=\"plotly-graph-div\" style=\"height:900px; width:900px;\"></div>\n",
       "            <script type=\"text/javascript\">\n",
       "                require([\"plotly\"], function(Plotly) {\n",
       "                    window.PLOTLYENV=window.PLOTLYENV || {};\n",
       "                    \n",
       "                if (document.getElementById(\"ed760662-cc10-4a31-97f5-eccf10324e65\")) {\n",
       "                    Plotly.newPlot(\n",
       "                        'ed760662-cc10-4a31-97f5-eccf10324e65',\n",
       "                        [{\"hoverlabel\": {\"namelength\": 0}, \"hovertemplate\": \"sizing=%{marker.size}<br>Latitude=%{lat}<br>Longitude=%{lon}<br>Total docks=%{marker.color}\", \"lat\": [44.984891999999995, 44.957341, 44.967115, 44.991412, 44.97534, 44.988890000000005, 44.972217, 44.97265, 44.94859, 44.98102, 44.97391, 44.986087, 44.970040999999995, 44.94948465, 44.96293, 44.973440000000004, 44.96710368, 44.960744, 44.957214, 44.97063898, 44.95131, 44.98383, 44.95548, 44.95355, 44.973378000000004, 44.977406, 44.97209, 44.97003, 44.98087361, 44.976602, 44.98092673, 44.977028000000004, 44.97913, 44.962509999999995, 44.97202, 44.9715, 44.969225, 44.96285, 44.973839, 44.97265, 44.962846, 44.975640999999996, 44.94865, 44.9554734, 44.962701, 44.97654, 44.98717, 44.961459999999995, 44.93531794, 44.97974, 44.97497, 44.96995, 44.980536, 44.950371000000004, 44.97337143, 44.98412539, 44.9743, 44.97685, 44.981147, 44.96342, 44.946687, 44.98052, 44.970553, 44.9519, 44.98987911, 44.9798, 44.999340999999994, 44.99957, 45.005994, 45.002448, 44.991704, 44.941388, 44.972590000000004, 44.966159999999995, 44.963549, 44.95665, 44.964172, 44.956624, 44.94823, 44.94826, 44.956052, 44.948147, 44.940513, 44.940218, 44.96954, 44.983281, 44.94846717, 44.978068, 44.982594299999995, 44.98961164, 44.968237, 44.94478, 44.93775, 44.999874, 44.948555999999996, 44.995348, 44.94010259, 44.981914, 44.941599, 44.98025511, 44.945736, 44.99882, 44.955363, 44.939778999999994, 44.956066, 44.95937384, 44.987934, 44.987517, 44.9559764, 45.00994, 44.984527, 44.93387867, 44.97394, 44.949053, 44.950189, 44.949433, 44.948399, 44.946191, 44.950765999999994, 44.94965, 44.95385, 44.945173, 44.95235098, 44.94683, 44.945267, 44.94813, 44.94638658, 44.94065697, 44.93768, 44.943846, 44.928979999999996, 44.940902, 44.94144, 44.942846, 44.9467, 44.95562, 44.954696999999996, 44.95562146, 44.951132, 44.97731428, 44.977521, 44.988461, 45.00095, 45.042435, 44.948452, 44.920466, 44.916906, 44.894044, 44.992540000000005, 44.998613, 44.905043, 44.976729999999996, 44.93992412, 44.915957, 44.929359999999996, 44.9485, 44.890527, 44.949699, 44.947328999999996, 44.940288, 44.93434, 44.919593, 44.92515, 44.937816999999995, 44.9342, 45.01312, 45.006229, 44.985388, 44.985465000000005, 44.983321000000004, 45.010119, 44.91294254, 45.006321, 44.985406, 45.013040000000004, 44.990328000000005, 44.97589503, 44.987996, 44.98446, 44.980831, 44.973607, 44.981895, 44.991821, 44.97866518, 44.966145000000004, 44.974795, 44.972128000000005, 44.985576, 44.968759999999996, 44.976303, 44.977899, 44.974396999999996, 44.972404, 44.976096000000005, 44.979878, 44.976223, 44.90700063, 44.987159999999996, 44.9805, 44.912125, 45.002526, 44.953565999999995], \"legendgroup\": \"\", \"lon\": [-93.256551, -93.22337399999999, -93.240149, -93.306269, -93.27869, -93.25392, -93.27643499999999, -93.26872, -93.2602, -93.23746, -93.28305, -93.272459, -93.27586099999999, -93.28822732, -93.24104200000001, -93.24748000000001, -93.2890749, -93.28815, -93.27498100000001, -93.24355245, -93.29853, -93.27099, -93.28775, -93.26259, -93.234762, -93.234911, -93.23206, -93.24519000000001, -93.26692522, -93.266701, -93.26345444, -93.221639, -93.23189, -93.2583, -93.22697, -93.284927, -93.251136, -93.252269, -93.27454399999999, -93.27405, -93.267526, -93.272185, -93.30077, -93.29714298, -93.23089300000001, -93.25535, -93.25576, -93.29303, -93.27807784, -93.26599, -93.266684, -93.278133, -93.275626, -93.269278, -93.21126401, -93.27903807, -93.22854, -93.23818, -93.304427, -93.277939, -93.29736, -93.28542, -93.26079, -93.27831, -93.27978373, -93.322066, -93.290941, -93.297071, -93.287559, -93.30585699999999, -93.293988, -93.29863399999999, -93.218919, -93.20525, -93.19590600000001, -93.17706, -93.165868, -93.16734, -93.24054, -93.22106, -93.136556, -93.185819, -93.177093, -93.17022, -93.2669, -93.24812, -93.31729442, -93.26023, -93.26751390000001, -93.27718735, -93.281991, -93.29038, -93.2912, -93.262955, -93.283163, -93.26685400000001, -93.15315127, -93.143383, -93.138832, -93.15167874, -93.12661, -93.25276, -93.14637900000001, -93.126261, -93.126088, -93.26101631, -93.21289200000001, -93.230469, -93.15670252, -93.247114, -93.185029, -93.27260882, -93.2321, -93.10673, -93.09759, -93.091207, -93.086584, -93.088802, -93.08924499999999, -93.0845, -93.10445, -93.103863, -93.09954867, -93.09231, -93.096114, -93.09663, -93.08343261, -93.09000671, -93.094532, -93.09227, -93.12428100000001, -93.098712, -93.10624, -93.097836, -93.1151, -93.11665, -93.097817, -93.10574323, -93.094545, -93.27776134, -93.256736, -93.269087, -93.27703699999999, -93.283734, -93.20620100000001, -93.21953, -93.213587, -93.187381, -93.270256, -93.268633, -93.19828299999999, -93.252189, -93.19278225, -93.242761, -93.30713, -93.30520899999999, -93.18236999999999, -93.29312900000001, -93.233092, -93.197997, -93.229338, -93.187264, -93.31459699999999, -93.320212, -93.2125, -93.27166, -93.271571, -93.26145, -93.25210200000001, -93.24965300000001, -93.268598, -93.21014017, -93.266553, -93.27403100000001, -93.264573, -93.254295, -93.25998902, -93.279854, -93.27723399999999, -93.240282, -93.23725400000001, -93.269195, -93.255558, -93.27050328, -93.286294, -93.270649, -93.221021, -93.238743, -93.21003, -93.230029, -93.226629, -93.22300200000001, -93.242891, -93.23195799999999, -93.234739, -93.2416, -93.19143176, -93.30194399999999, -93.2618, -93.298552, -93.247162, -93.220066], \"marker\": {\"color\": [27, 15, 15, 15, 23, 15, 23, 19, 19, 27, 15, 19, 19, 19, 15, 20, 23, 19, 17, 27, 19, 19, 15, 15, 35, 25, 25, 19, 19, 41, 23, 23, 15, 15, 23, 15, 15, 15, 19, 19, 15, 23, 19, 15, 19, 19, 19, 15, 15, 27, 15, 15, 23, 15, 24, 19, 19, 15, 15, 23, 19, 15, 15, 15, 15, 15, 15, 15, 15, 15, 15, 19, 15, 15, 15, 15, 15, 15, 15, 15, 15, 15, 15, 15, 15, 27, 27, 19, 19, 19, 23, 15, 15, 15, 15, 15, 15, 23, 15, 19, 15, 23, 15, 15, 15, 15, 19, 19, 15, 15, 15, 11, 31, 15, 15, 15, 23, 15, 15, 19, 15, 11, 15, 19, 15, 15, 15, 17, 19, 15, 15, 19, 15, 15, 19, 15, 15, 15, 19, 27, 19, 15, 15, 27, 15, 15, 27, 19, 15, 15, 15, 23, 15, 23, 25, 41, 19, 15, 15, 15, 15, 15, 15, 19, 15, 15, 15, 15, 15, 15, 15, 15, 15, 19, 15, 15, 27, 19, 23, 23, 19, 23, 15, 19, 19, 19, 19, 15, 15, 15, 25, 23, 23, 23, 23, 15, 19, 15, 23, 23, 15, 7], \"coloraxis\": \"coloraxis\", \"size\": [20, 8, 8, 8, 16, 8, 16, 12, 12, 20, 8, 12, 12, 12, 8, 13, 16, 12, 10, 20, 12, 12, 8, 8, 28, 18, 18, 12, 12, 34, 16, 16, 8, 8, 16, 8, 8, 8, 12, 12, 8, 16, 12, 8, 12, 12, 12, 8, 8, 20, 8, 8, 16, 8, 17, 12, 12, 8, 8, 16, 12, 8, 8, 8, 8, 8, 8, 8, 8, 8, 8, 12, 8, 8, 8, 8, 8, 8, 8, 8, 8, 8, 8, 8, 8, 20, 20, 12, 12, 12, 16, 8, 8, 8, 8, 8, 8, 16, 8, 12, 8, 16, 8, 8, 8, 8, 12, 12, 8, 8, 8, 4, 24, 8, 8, 8, 16, 8, 8, 12, 8, 4, 8, 12, 8, 8, 8, 10, 12, 8, 8, 12, 8, 8, 12, 8, 8, 8, 12, 20, 12, 8, 8, 20, 8, 8, 20, 12, 8, 8, 8, 16, 8, 16, 18, 34, 12, 8, 8, 8, 8, 8, 8, 12, 8, 8, 8, 8, 8, 8, 8, 8, 8, 12, 8, 8, 20, 12, 16, 16, 12, 16, 8, 12, 12, 12, 12, 8, 8, 8, 18, 16, 16, 16, 16, 8, 12, 8, 16, 16, 8, 0], \"sizemode\": \"area\", \"sizeref\": 0.085}, \"mode\": \"markers\", \"name\": \"\", \"showlegend\": false, \"subplot\": \"mapbox\", \"type\": \"scattermapbox\"}],\n",
       "                        {\"autosize\": false, \"coloraxis\": {\"colorbar\": {\"title\": {\"text\": \"Total docks\"}}, \"colorscale\": [[0.0, \"rgb(3, 5, 18)\"], [0.09090909090909091, \"rgb(25, 25, 51)\"], [0.18181818181818182, \"rgb(44, 42, 87)\"], [0.2727272727272727, \"rgb(58, 60, 125)\"], [0.36363636363636365, \"rgb(62, 83, 160)\"], [0.45454545454545453, \"rgb(62, 109, 178)\"], [0.5454545454545454, \"rgb(72, 134, 187)\"], [0.6363636363636364, \"rgb(89, 159, 196)\"], [0.7272727272727273, \"rgb(114, 184, 205)\"], [0.8181818181818182, \"rgb(149, 207, 216)\"], [0.9090909090909091, \"rgb(192, 229, 232)\"], [1.0, \"rgb(234, 252, 253)\"]]}, \"height\": 900, \"legend\": {\"itemsizing\": \"constant\", \"tracegroupgap\": 0}, \"mapbox\": {\"accesstoken\": \"pk.eyJ1IjoibHlkaWFuZWlnaGJvdXJseXRpY3MiLCJhIjoiY2szNThncndwMWR0MDNvazM4enR1OHJpeSJ9.yGM6M2aPhaXHuQuKpY_JzA\", \"center\": {\"lat\": 44.96517785846535, \"lon\": -93.22917779371288}, \"domain\": {\"x\": [0.0, 1.0], \"y\": [0.0, 1.0]}, \"zoom\": 10}, \"margin\": {\"b\": 100, \"l\": 50, \"pad\": 4, \"r\": 50, \"t\": 100}, \"template\": {\"data\": {\"bar\": [{\"error_x\": {\"color\": \"#2a3f5f\"}, \"error_y\": {\"color\": \"#2a3f5f\"}, \"marker\": {\"line\": {\"color\": \"#E5ECF6\", \"width\": 0.5}}, \"type\": \"bar\"}], \"barpolar\": [{\"marker\": {\"line\": {\"color\": \"#E5ECF6\", \"width\": 0.5}}, \"type\": \"barpolar\"}], \"carpet\": [{\"aaxis\": {\"endlinecolor\": \"#2a3f5f\", \"gridcolor\": \"white\", \"linecolor\": \"white\", \"minorgridcolor\": \"white\", \"startlinecolor\": \"#2a3f5f\"}, \"baxis\": {\"endlinecolor\": \"#2a3f5f\", \"gridcolor\": \"white\", \"linecolor\": \"white\", \"minorgridcolor\": \"white\", \"startlinecolor\": \"#2a3f5f\"}, \"type\": \"carpet\"}], \"choropleth\": [{\"colorbar\": {\"outlinewidth\": 0, \"ticks\": \"\"}, \"type\": \"choropleth\"}], \"contour\": [{\"colorbar\": {\"outlinewidth\": 0, \"ticks\": \"\"}, \"colorscale\": [[0.0, \"#0d0887\"], [0.1111111111111111, \"#46039f\"], [0.2222222222222222, \"#7201a8\"], [0.3333333333333333, \"#9c179e\"], [0.4444444444444444, \"#bd3786\"], [0.5555555555555556, \"#d8576b\"], [0.6666666666666666, \"#ed7953\"], [0.7777777777777778, \"#fb9f3a\"], [0.8888888888888888, \"#fdca26\"], [1.0, \"#f0f921\"]], \"type\": \"contour\"}], \"contourcarpet\": [{\"colorbar\": {\"outlinewidth\": 0, \"ticks\": \"\"}, \"type\": \"contourcarpet\"}], \"heatmap\": [{\"colorbar\": {\"outlinewidth\": 0, \"ticks\": \"\"}, \"colorscale\": [[0.0, \"#0d0887\"], [0.1111111111111111, \"#46039f\"], [0.2222222222222222, \"#7201a8\"], [0.3333333333333333, \"#9c179e\"], [0.4444444444444444, \"#bd3786\"], [0.5555555555555556, \"#d8576b\"], [0.6666666666666666, \"#ed7953\"], [0.7777777777777778, \"#fb9f3a\"], [0.8888888888888888, \"#fdca26\"], [1.0, \"#f0f921\"]], \"type\": \"heatmap\"}], \"heatmapgl\": [{\"colorbar\": {\"outlinewidth\": 0, \"ticks\": \"\"}, \"colorscale\": [[0.0, \"#0d0887\"], [0.1111111111111111, \"#46039f\"], [0.2222222222222222, \"#7201a8\"], [0.3333333333333333, \"#9c179e\"], [0.4444444444444444, \"#bd3786\"], [0.5555555555555556, \"#d8576b\"], [0.6666666666666666, \"#ed7953\"], [0.7777777777777778, \"#fb9f3a\"], [0.8888888888888888, \"#fdca26\"], [1.0, \"#f0f921\"]], \"type\": \"heatmapgl\"}], \"histogram\": [{\"marker\": {\"colorbar\": {\"outlinewidth\": 0, \"ticks\": \"\"}}, \"type\": \"histogram\"}], \"histogram2d\": [{\"colorbar\": {\"outlinewidth\": 0, \"ticks\": \"\"}, \"colorscale\": [[0.0, \"#0d0887\"], [0.1111111111111111, \"#46039f\"], [0.2222222222222222, \"#7201a8\"], [0.3333333333333333, \"#9c179e\"], [0.4444444444444444, \"#bd3786\"], [0.5555555555555556, \"#d8576b\"], [0.6666666666666666, \"#ed7953\"], [0.7777777777777778, \"#fb9f3a\"], [0.8888888888888888, \"#fdca26\"], [1.0, \"#f0f921\"]], \"type\": \"histogram2d\"}], \"histogram2dcontour\": [{\"colorbar\": {\"outlinewidth\": 0, \"ticks\": \"\"}, \"colorscale\": [[0.0, \"#0d0887\"], [0.1111111111111111, \"#46039f\"], [0.2222222222222222, \"#7201a8\"], [0.3333333333333333, \"#9c179e\"], [0.4444444444444444, \"#bd3786\"], [0.5555555555555556, \"#d8576b\"], [0.6666666666666666, \"#ed7953\"], [0.7777777777777778, \"#fb9f3a\"], [0.8888888888888888, \"#fdca26\"], [1.0, \"#f0f921\"]], \"type\": \"histogram2dcontour\"}], \"mesh3d\": [{\"colorbar\": {\"outlinewidth\": 0, \"ticks\": \"\"}, \"type\": \"mesh3d\"}], \"parcoords\": [{\"line\": {\"colorbar\": {\"outlinewidth\": 0, \"ticks\": \"\"}}, \"type\": \"parcoords\"}], \"pie\": [{\"automargin\": true, \"type\": \"pie\"}], \"scatter\": [{\"marker\": {\"colorbar\": {\"outlinewidth\": 0, \"ticks\": \"\"}}, \"type\": \"scatter\"}], \"scatter3d\": [{\"line\": {\"colorbar\": {\"outlinewidth\": 0, \"ticks\": \"\"}}, \"marker\": {\"colorbar\": {\"outlinewidth\": 0, \"ticks\": \"\"}}, \"type\": \"scatter3d\"}], \"scattercarpet\": [{\"marker\": {\"colorbar\": {\"outlinewidth\": 0, \"ticks\": \"\"}}, \"type\": \"scattercarpet\"}], \"scattergeo\": [{\"marker\": {\"colorbar\": {\"outlinewidth\": 0, \"ticks\": \"\"}}, \"type\": \"scattergeo\"}], \"scattergl\": [{\"marker\": {\"colorbar\": {\"outlinewidth\": 0, \"ticks\": \"\"}}, \"type\": \"scattergl\"}], \"scattermapbox\": [{\"marker\": {\"colorbar\": {\"outlinewidth\": 0, \"ticks\": \"\"}}, \"type\": \"scattermapbox\"}], \"scatterpolar\": [{\"marker\": {\"colorbar\": {\"outlinewidth\": 0, \"ticks\": \"\"}}, \"type\": \"scatterpolar\"}], \"scatterpolargl\": [{\"marker\": {\"colorbar\": {\"outlinewidth\": 0, \"ticks\": \"\"}}, \"type\": \"scatterpolargl\"}], \"scatterternary\": [{\"marker\": {\"colorbar\": {\"outlinewidth\": 0, \"ticks\": \"\"}}, \"type\": \"scatterternary\"}], \"surface\": [{\"colorbar\": {\"outlinewidth\": 0, \"ticks\": \"\"}, \"colorscale\": [[0.0, \"#0d0887\"], [0.1111111111111111, \"#46039f\"], [0.2222222222222222, \"#7201a8\"], [0.3333333333333333, \"#9c179e\"], [0.4444444444444444, \"#bd3786\"], [0.5555555555555556, \"#d8576b\"], [0.6666666666666666, \"#ed7953\"], [0.7777777777777778, \"#fb9f3a\"], [0.8888888888888888, \"#fdca26\"], [1.0, \"#f0f921\"]], \"type\": \"surface\"}], \"table\": [{\"cells\": {\"fill\": {\"color\": \"#EBF0F8\"}, \"line\": {\"color\": \"white\"}}, \"header\": {\"fill\": {\"color\": \"#C8D4E3\"}, \"line\": {\"color\": \"white\"}}, \"type\": \"table\"}]}, \"layout\": {\"annotationdefaults\": {\"arrowcolor\": \"#2a3f5f\", \"arrowhead\": 0, \"arrowwidth\": 1}, \"coloraxis\": {\"colorbar\": {\"outlinewidth\": 0, \"ticks\": \"\"}}, \"colorscale\": {\"diverging\": [[0, \"#8e0152\"], [0.1, \"#c51b7d\"], [0.2, \"#de77ae\"], [0.3, \"#f1b6da\"], [0.4, \"#fde0ef\"], [0.5, \"#f7f7f7\"], [0.6, \"#e6f5d0\"], [0.7, \"#b8e186\"], [0.8, \"#7fbc41\"], [0.9, \"#4d9221\"], [1, \"#276419\"]], \"sequential\": [[0.0, \"#0d0887\"], [0.1111111111111111, \"#46039f\"], [0.2222222222222222, \"#7201a8\"], [0.3333333333333333, \"#9c179e\"], [0.4444444444444444, \"#bd3786\"], [0.5555555555555556, \"#d8576b\"], [0.6666666666666666, \"#ed7953\"], [0.7777777777777778, \"#fb9f3a\"], [0.8888888888888888, \"#fdca26\"], [1.0, \"#f0f921\"]], \"sequentialminus\": [[0.0, \"#0d0887\"], [0.1111111111111111, \"#46039f\"], [0.2222222222222222, \"#7201a8\"], [0.3333333333333333, \"#9c179e\"], [0.4444444444444444, \"#bd3786\"], [0.5555555555555556, \"#d8576b\"], [0.6666666666666666, \"#ed7953\"], [0.7777777777777778, \"#fb9f3a\"], [0.8888888888888888, \"#fdca26\"], [1.0, \"#f0f921\"]]}, \"colorway\": [\"#636efa\", \"#EF553B\", \"#00cc96\", \"#ab63fa\", \"#FFA15A\", \"#19d3f3\", \"#FF6692\", \"#B6E880\", \"#FF97FF\", \"#FECB52\"], \"font\": {\"color\": \"#2a3f5f\"}, \"geo\": {\"bgcolor\": \"white\", \"lakecolor\": \"white\", \"landcolor\": \"#E5ECF6\", \"showlakes\": true, \"showland\": true, \"subunitcolor\": \"white\"}, \"hoverlabel\": {\"align\": \"left\"}, \"hovermode\": \"closest\", \"mapbox\": {\"style\": \"light\"}, \"paper_bgcolor\": \"white\", \"plot_bgcolor\": \"#E5ECF6\", \"polar\": {\"angularaxis\": {\"gridcolor\": \"white\", \"linecolor\": \"white\", \"ticks\": \"\"}, \"bgcolor\": \"#E5ECF6\", \"radialaxis\": {\"gridcolor\": \"white\", \"linecolor\": \"white\", \"ticks\": \"\"}}, \"scene\": {\"xaxis\": {\"backgroundcolor\": \"#E5ECF6\", \"gridcolor\": \"white\", \"gridwidth\": 2, \"linecolor\": \"white\", \"showbackground\": true, \"ticks\": \"\", \"zerolinecolor\": \"white\"}, \"yaxis\": {\"backgroundcolor\": \"#E5ECF6\", \"gridcolor\": \"white\", \"gridwidth\": 2, \"linecolor\": \"white\", \"showbackground\": true, \"ticks\": \"\", \"zerolinecolor\": \"white\"}, \"zaxis\": {\"backgroundcolor\": \"#E5ECF6\", \"gridcolor\": \"white\", \"gridwidth\": 2, \"linecolor\": \"white\", \"showbackground\": true, \"ticks\": \"\", \"zerolinecolor\": \"white\"}}, \"shapedefaults\": {\"line\": {\"color\": \"#2a3f5f\"}}, \"ternary\": {\"aaxis\": {\"gridcolor\": \"white\", \"linecolor\": \"white\", \"ticks\": \"\"}, \"baxis\": {\"gridcolor\": \"white\", \"linecolor\": \"white\", \"ticks\": \"\"}, \"bgcolor\": \"#E5ECF6\", \"caxis\": {\"gridcolor\": \"white\", \"linecolor\": \"white\", \"ticks\": \"\"}}, \"title\": {\"x\": 0.05}, \"xaxis\": {\"automargin\": true, \"gridcolor\": \"white\", \"linecolor\": \"white\", \"ticks\": \"\", \"title\": {\"standoff\": 15}, \"zerolinecolor\": \"white\", \"zerolinewidth\": 2}, \"yaxis\": {\"automargin\": true, \"gridcolor\": \"white\", \"linecolor\": \"white\", \"ticks\": \"\", \"title\": {\"standoff\": 15}, \"zerolinecolor\": \"white\", \"zerolinewidth\": 2}}}, \"width\": 900},\n",
       "                        {\"responsive\": true}\n",
       "                    ).then(function(){\n",
       "                            \n",
       "var gd = document.getElementById('ed760662-cc10-4a31-97f5-eccf10324e65');\n",
       "var x = new MutationObserver(function (mutations, observer) {{\n",
       "        var display = window.getComputedStyle(gd).display;\n",
       "        if (!display || display === 'none') {{\n",
       "            console.log([gd, 'removed!']);\n",
       "            Plotly.purge(gd);\n",
       "            observer.disconnect();\n",
       "        }}\n",
       "}});\n",
       "\n",
       "// Listen for the removal of the full notebook cells\n",
       "var notebookContainer = gd.closest('#notebook-container');\n",
       "if (notebookContainer) {{\n",
       "    x.observe(notebookContainer, {childList: true});\n",
       "}}\n",
       "\n",
       "// Listen for the clearing of the current output cell\n",
       "var outputEl = gd.closest('.output');\n",
       "if (outputEl) {{\n",
       "    x.observe(outputEl, {childList: true});\n",
       "}}\n",
       "\n",
       "                        })\n",
       "                };\n",
       "                });\n",
       "            </script>\n",
       "        </div>"
      ]
     },
     "metadata": {},
     "output_type": "display_data"
    }
   ],
   "source": [
    "token = 'pk.eyJ1IjoibHlkaWFuZWlnaGJvdXJseXRpY3MiLCJhIjoiY2szNThncndwMWR0MDNvazM4enR1OHJpeSJ9.yGM6M2aPhaXHuQuKpY_JzA'\n",
    "px.set_mapbox_access_token(token)\n",
    "df = px.data.carshare()\n",
    "fig = px.scatter_mapbox(location_df, lat=\"Latitude\", lon=\"Longitude\", color=\"Total docks\"\n",
    "                        ,size=\"sizing\"\n",
    "                        ,color_continuous_scale=px.colors.sequential.ice, zoom=10)\n",
    "fig.update_layout(\n",
    "    autosize=False,\n",
    "    width=900,\n",
    "    height=900,\n",
    "    margin=dict(\n",
    "        l=50,\n",
    "        r=50,\n",
    "        b=100,\n",
    "        t=100,\n",
    "        pad=4))\n",
    "fig.show()"
   ]
  },
  {
   "cell_type": "code",
   "execution_count": null,
   "metadata": {},
   "outputs": [],
   "source": []
  }
 ],
 "metadata": {
  "kernelspec": {
   "display_name": "Python 3",
   "language": "python",
   "name": "python3"
  },
  "language_info": {
   "codemirror_mode": {
    "name": "ipython",
    "version": 3
   },
   "file_extension": ".py",
   "mimetype": "text/x-python",
   "name": "python",
   "nbconvert_exporter": "python",
   "pygments_lexer": "ipython3",
   "version": "3.8.1"
  }
 },
 "nbformat": 4,
 "nbformat_minor": 4
}
